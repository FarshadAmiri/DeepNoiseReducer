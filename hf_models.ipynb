{
 "cells": [
  {
   "cell_type": "code",
   "execution_count": 1,
   "metadata": {},
   "outputs": [
    {
     "name": "stderr",
     "output_type": "stream",
     "text": [
      "INFO:speechbrain.utils.quirks:Applied quirks (see `speechbrain.utils.quirks`): [disable_jit_profiling, allow_tf32]\n",
      "INFO:speechbrain.utils.quirks:Excluded quirks specified by the `SB_DISABLE_QUIRKS` environment (comma-separated list): []\n",
      "C:\\Users\\User_1\\AppData\\Local\\Programs\\Python\\Python312\\Lib\\inspect.py:1001: UserWarning: Module 'speechbrain.pretrained' was deprecated, redirecting to 'speechbrain.inference'. Please update your script. This is a change from SpeechBrain 1.0. See: https://github.com/speechbrain/speechbrain/releases/tag/v1.0.0\n",
      "  if ismodule(module) and hasattr(module, '__file__'):\n",
      "C:\\Users\\User_1\\AppData\\Local\\Temp\\ipykernel_15604\\774088634.py:3: UserWarning: Module 'speechbrain.pretrained' was deprecated, redirecting to 'speechbrain.inference'. Please update your script. This is a change from SpeechBrain 1.0. See: https://github.com/speechbrain/speechbrain/releases/tag/v1.0.0\n",
      "  from speechbrain.pretrained import SpectralMaskEnhancement\n"
     ]
    }
   ],
   "source": [
    "import torch\n",
    "import torchaudio\n",
    "from speechbrain.pretrained import SpectralMaskEnhancement"
   ]
  },
  {
   "cell_type": "code",
   "execution_count": 2,
   "metadata": {},
   "outputs": [
    {
     "name": "stderr",
     "output_type": "stream",
     "text": [
      "INFO:speechbrain.utils.fetching:Fetch hyperparams.yaml: Fetching from HuggingFace Hub 'speechbrain/metricgan-plus-voicebank' if not cached\n"
     ]
    },
    {
     "data": {
      "application/vnd.jupyter.widget-view+json": {
       "model_id": "8d1fe9fa37634aba802591ed0b21cdc5",
       "version_major": 2,
       "version_minor": 0
      },
      "text/plain": [
       "hyperparams.yaml:   0%|          | 0.00/1.12k [00:00<?, ?B/s]"
      ]
     },
     "metadata": {},
     "output_type": "display_data"
    },
    {
     "name": "stderr",
     "output_type": "stream",
     "text": [
      "D:\\Projects\\venv\\Lib\\site-packages\\huggingface_hub\\file_download.py:139: UserWarning: `huggingface_hub` cache-system uses symlinks by default to efficiently store duplicated files but your machine does not support them in C:\\Users\\User_1\\.cache\\huggingface\\hub\\models--speechbrain--metricgan-plus-voicebank. Caching files will still work but in a degraded version that might require more space on your disk. This warning can be disabled by setting the `HF_HUB_DISABLE_SYMLINKS_WARNING` environment variable. For more details, see https://huggingface.co/docs/huggingface_hub/how-to-cache#limitations.\n",
      "To support symlinks on Windows, you either need to activate Developer Mode or to run Python as an administrator. In order to activate developer mode, see this article: https://docs.microsoft.com/en-us/windows/apps/get-started/enable-your-device-for-development\n",
      "  warnings.warn(message)\n",
      "INFO:speechbrain.utils.fetching:Fetch custom.py: Fetching from HuggingFace Hub 'speechbrain/metricgan-plus-voicebank' if not cached\n",
      "INFO:speechbrain.utils.fetching:Fetch enhance_model.ckpt: Fetching from HuggingFace Hub 'speechbrain/metricgan-plus-voicebank' if not cached\n"
     ]
    },
    {
     "data": {
      "application/vnd.jupyter.widget-view+json": {
       "model_id": "a372c4c963934244827dded307d76b1e",
       "version_major": 2,
       "version_minor": 0
      },
      "text/plain": [
       "enhance_model.ckpt:   0%|          | 0.00/7.59M [00:00<?, ?B/s]"
      ]
     },
     "metadata": {},
     "output_type": "display_data"
    },
    {
     "name": "stderr",
     "output_type": "stream",
     "text": [
      "INFO:speechbrain.utils.parameter_transfer:Loading pretrained files for: enhance_model\n"
     ]
    }
   ],
   "source": [
    "# Load SpeechBrain enhancement model\n",
    "model = SpectralMaskEnhancement.from_hparams(\n",
    "    source=\"speechbrain/metricgan-plus-voicebank\",\n",
    "    # savedir=\"pretrained_models/metricgan-plus-voicebank\"\n",
    ")"
   ]
  },
  {
   "cell_type": "code",
   "execution_count": 5,
   "metadata": {},
   "outputs": [
    {
     "name": "stdout",
     "output_type": "stream",
     "text": [
      "✅ Enhanced audio saved as 'enhanced_output.wav'\n"
     ]
    }
   ],
   "source": [
    "# Load noisy audio\n",
    "file_path = r\"C:\\Users\\User_1\\Desktop\\Comm-sounds\\2.mp3\"\n",
    "output_file_path = r\"C:\\Users\\User_1\\Desktop\\Comm-sounds\\output_speechbrain.wav\"\n",
    "\n",
    "\n",
    "# Load noisy audio\n",
    "noisy_waveform, sr = torchaudio.load(file_path)\n",
    "\n",
    "# Compute correct `lengths` (relative to total sequence length)\n",
    "lengths = torch.tensor([noisy_waveform.shape[1] / noisy_waveform.shape[1]])  # Always 1.0\n",
    "\n",
    "# Ensure tensor is float32\n",
    "noisy_waveform = noisy_waveform.float()\n",
    "\n",
    "# Enhance speech\n",
    "enhanced_waveform = model.enhance_batch(noisy_waveform, lengths)\n",
    "\n",
    "# Save enhanced audio\n",
    "torchaudio.save(output_file_path, enhanced_waveform.squeeze(0), sr)\n",
    "\n",
    "print(\"✅ Enhanced audio saved as 'enhanced_output.wav'\")"
   ]
  }
 ],
 "metadata": {
  "kernelspec": {
   "display_name": "Python 3 (ipykernel)",
   "language": "python",
   "name": "python3"
  }
 },
 "nbformat": 4,
 "nbformat_minor": 2
}
