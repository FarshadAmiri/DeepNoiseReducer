{
 "cells": [
  {
   "cell_type": "code",
   "execution_count": 13,
   "metadata": {},
   "outputs": [],
   "source": [
    "import whisper\n",
    "from pprint import pprint"
   ]
  },
  {
   "cell_type": "code",
   "execution_count": 2,
   "metadata": {},
   "outputs": [
    {
     "name": "stderr",
     "output_type": "stream",
     "text": [
      "100%|█████████████████████████████████████| 1.42G/1.42G [11:54<00:00, 2.14MiB/s]\n"
     ]
    }
   ],
   "source": [
    "# Load the model (you can use \"base\", \"small\", \"medium\", or \"large\" for better accuracy)\n",
    "model = whisper.load_model(\"medium\")  "
   ]
  },
  {
   "cell_type": "code",
   "execution_count": 21,
   "metadata": {},
   "outputs": [],
   "source": [
    "# file_path = r\"C:\\Users\\User_1\\Desktop\\Comm-sounds\\sat.mp3\"\n",
    "file_path = r\"C:\\Users\\User_1\\Desktop\\Comm-sounds\\1.mp3\"\n",
    "# file_path = r\"C:\\Users\\User_1\\Desktop\\Comm-sounds\\2.mp3\"\n",
    "# file_path = r\"C:\\Users\\User_1\\Desktop\\Comm-sounds\\3.mp3\"\n",
    "# file_path = r\"C:\\Users\\User_1\\Desktop\\Comm-sounds\\fa_1.m4a\""
   ]
  },
  {
   "cell_type": "code",
   "execution_count": 24,
   "metadata": {},
   "outputs": [
    {
     "name": "stdout",
     "output_type": "stream",
     "text": [
      "(' 300 checks. 300. Dangerous check stabilizers. Sit at 75%. Copy. Standing '\n",
      " 'by. DOB LPC, turn fine. Declining memory. Turn back for an unexpected A. Up '\n",
      " 'speed. DOB LPC, up speed successful with no unexpected errors. Copy, DOB. '\n",
      " 'You are clear for launch. And with that, shut down your visors. O2 on and '\n",
      " \"prepare for ignition, O2. Copy that and initiating a full 10-4-4. You've got \"\n",
      " 'to check two of your own. LT, L1 clear. Engines on. CP13, sector on. Wing '\n",
      " 'turning stable. O L H. Woo! Just getting the rock and roll. Over tone stage. '\n",
      " 'Alright, LL 60. Two minutes 45. Calling two engines manual. Copy, two '\n",
      " \"engines manual. Turning, we'll be back at 8.2, check. Standing by the full \"\n",
      " 'trails. Overlight deck chairs. On tour manual. 2.4, 2.8G right now and '\n",
      " 'counting. Access distortion negative one. Standby.')\n"
     ]
    }
   ],
   "source": [
    "# Transcribe Persian audio\n",
    "LANGUAGE = \"en\"\n",
    "# LANGUAGE = \"fa\"\n",
    "\n",
    "result = model.transcribe(file_path, language=LANGUAGE)\n",
    "\n",
    "# Print Persian transcription\n",
    "pprint(result[\"text\"])"
   ]
  },
  {
   "cell_type": "code",
   "execution_count": null,
   "metadata": {},
   "outputs": [],
   "source": []
  },
  {
   "cell_type": "code",
   "execution_count": null,
   "metadata": {},
   "outputs": [],
   "source": []
  }
 ],
 "metadata": {
  "kernelspec": {
   "display_name": "Python 3 (ipykernel)",
   "language": "python",
   "name": "python3"
  },
  "language_info": {
   "codemirror_mode": {
    "name": "ipython",
    "version": 3
   },
   "file_extension": ".py",
   "mimetype": "text/x-python",
   "name": "python",
   "nbconvert_exporter": "python",
   "pygments_lexer": "ipython3",
   "version": "3.12.4"
  }
 },
 "nbformat": 4,
 "nbformat_minor": 2
}
