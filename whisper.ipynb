{
 "cells": [
  {
   "cell_type": "code",
   "execution_count": 18,
   "metadata": {},
   "outputs": [],
   "source": [
    "import whisper\n",
    "from pprint import pprint"
   ]
  },
  {
   "cell_type": "code",
   "execution_count": 19,
   "metadata": {},
   "outputs": [],
   "source": [
    "# Load the model (you can use \"base\", \"small\", \"medium\", or \"large\" for better accuracy)\n",
    "model = whisper.load_model(\"medium\")  "
   ]
  },
  {
   "cell_type": "code",
   "execution_count": 20,
   "metadata": {},
   "outputs": [],
   "source": [
    "file_path = r\"C:\\Users\\User_1\\Desktop\\Comm-sounds\\sat.mp3\"\n",
    "# file_path = r\"C:\\Users\\User_1\\Desktop\\Comm-sounds\\1.mp3\"\n",
    "# file_path = r\"C:\\Users\\User_1\\Desktop\\Comm-sounds\\2.mp3\"\n",
    "# file_path = r\"C:\\Users\\User_1\\Desktop\\Comm-sounds\\3.mp3\"\n",
    "# file_path = r\"C:\\Users\\User_1\\Desktop\\Comm-sounds\\fa_1.m4a\""
   ]
  },
  {
   "cell_type": "code",
   "execution_count": 21,
   "metadata": {},
   "outputs": [
    {
     "name": "stderr",
     "output_type": "stream",
     "text": [
      "D:\\Projects\\venv\\Lib\\site-packages\\whisper\\model.py:124: UserWarning: 1Torch was not compiled with flash attention. (Triggered internally at ..\\aten\\src\\ATen\\native\\transformers\\cuda\\sdp_utils.cpp:455.)\n",
      "  a = scaled_dot_product_attention(\n"
     ]
    },
    {
     "name": "stdout",
     "output_type": "stream",
     "text": [
      "' Thank you for calling 999, watch for emergency please.'\n"
     ]
    }
   ],
   "source": [
    "# Transcribe Persian audio\n",
    "LANGUAGE = \"en\"\n",
    "# LANGUAGE = \"fa\"\n",
    "\n",
    "result = model.transcribe(file_path, language=LANGUAGE)\n",
    "\n",
    "# Print Persian transcription\n",
    "pprint(result[\"text\"])"
   ]
  },
  {
   "cell_type": "code",
   "execution_count": null,
   "metadata": {},
   "outputs": [],
   "source": []
  }
 ],
 "metadata": {
  "kernelspec": {
   "display_name": "Python 3 (ipykernel)",
   "language": "python",
   "name": "python3"
  },
  "language_info": {
   "codemirror_mode": {
    "name": "ipython",
    "version": 3
   },
   "file_extension": ".py",
   "mimetype": "text/x-python",
   "name": "python",
   "nbconvert_exporter": "python",
   "pygments_lexer": "ipython3",
   "version": "3.12.4"
  }
 },
 "nbformat": 4,
 "nbformat_minor": 2
}
