{
 "cells": [
  {
   "cell_type": "code",
   "execution_count": 14,
   "metadata": {},
   "outputs": [],
   "source": [
    "import torchaudio\n",
    "import librosa\n",
    "import torch\n",
    "from df import enhance, init_df\n",
    "import soundfile as sf\n",
    "import torchaudio.functional as F\n",
    "import os\n",
    "import glob"
   ]
  },
  {
   "cell_type": "code",
   "execution_count": 11,
   "metadata": {},
   "outputs": [],
   "source": [
    "def denoising_deepfilternet(audio_file_path, output_file_path, sample_rate=16000, atten_lim_db=-30, cutoff_freq=200, gain_db=8):\n",
    "    # Load DeepFilterNet model\n",
    "    model, df_state, _ = init_df()  # Ensure the model is correctly loaded\n",
    "\n",
    "    # Load the audio file using librosa\n",
    "    noisy_audio, sr = librosa.load(audio_file_path, sr=sample_rate)  # Resample to 16kHz\n",
    "    noisy_audio = librosa.util.normalize(noisy_audio)  # Normalize amplitude\n",
    "    noisy_audio, _ = librosa.effects.trim(noisy_audio)  # Trim silence\n",
    "\n",
    "    # Convert to PyTorch tensor and ensure the correct shape\n",
    "    noisy_audio_tensor = torch.tensor(noisy_audio, dtype=torch.float32).unsqueeze(0)  # Shape: (1, samples)\n",
    "\n",
    "    # Ensure model is in evaluation mode\n",
    "    model.eval()\n",
    "\n",
    "    # Apply DeepFilterNet Enhancement with stronger noise suppression\n",
    "    enhanced_audio = enhance(model, df_state, noisy_audio_tensor, atten_lim_db=atten_lim_db)  # Stronger filtering\n",
    "\n",
    "    # Apply a high-pass filter to remove low-frequency noise\n",
    "    enhanced_audio = torchaudio.functional.highpass_biquad(enhanced_audio, sr, cutoff_freq=cutoff_freq)  # Removes rumbling noise\n",
    "\n",
    "    # Apply post-processing: Boost speech frequencies if needed\n",
    "    enhanced_audio = F.gain(enhanced_audio, gain_db=gain_db)  # Boost speech clarity\n",
    "\n",
    "    # Save the enhanced audio as WAV\n",
    "    sf.write(output_file_path, enhanced_audio.squeeze().cpu().numpy(), sr)\n",
    "\n",
    "    print(\"✅ Enhanced Audio Saved at given output_file_path\")"
   ]
  },
  {
   "cell_type": "code",
   "execution_count": 12,
   "metadata": {},
   "outputs": [],
   "source": [
    "# Default value: 16000 (16kHz)\n",
    "SAMPLE_RATE = 16000\n",
    "\n",
    "# Stronger filtering | recommended values: 1e-5 , -20 | Lower: More noticeable denoising\n",
    "ATTEN_LIM_DB = -40\n",
    "\n",
    "# Removes rumbling noise | Default value: 200\n",
    "CUTOFF_FREQ = 200\n",
    "\n",
    "# Helps restore voice clarity | Greater: Boosts speech frequencies | recommended values: 3, 5, 8, 10\n",
    "GAIN_DB = 12"
   ]
  },
  {
   "cell_type": "code",
   "execution_count": 13,
   "metadata": {},
   "outputs": [
    {
     "name": "stdout",
     "output_type": "stream",
     "text": [
      "\u001b[32m2025-03-06 09:50:34\u001b[0m | \u001b[1mINFO    \u001b[0m | \u001b[36mDF\u001b[0m | \u001b[1mLoading model settings of DeepFilterNet3\u001b[0m\n",
      "\u001b[32m2025-03-06 09:50:34\u001b[0m | \u001b[1mINFO    \u001b[0m | \u001b[36mDF\u001b[0m | \u001b[1mUsing DeepFilterNet3 model at C:\\Users\\User_1\\AppData\\Local\\DeepFilterNet\\DeepFilterNet\\Cache\\DeepFilterNet3\u001b[0m\n",
      "\u001b[32m2025-03-06 09:50:34\u001b[0m | \u001b[1mINFO    \u001b[0m | \u001b[36mDF\u001b[0m | \u001b[1mInitializing model `deepfilternet3`\u001b[0m\n",
      "\u001b[32m2025-03-06 09:50:34\u001b[0m | \u001b[1mINFO    \u001b[0m | \u001b[36mDF\u001b[0m | \u001b[1mFound checkpoint C:\\Users\\User_1\\AppData\\Local\\DeepFilterNet\\DeepFilterNet\\Cache\\DeepFilterNet3\\checkpoints\\model_120.ckpt.best with epoch 120\u001b[0m\n",
      "\u001b[32m2025-03-06 09:50:34\u001b[0m | \u001b[1mINFO    \u001b[0m | \u001b[36mDF\u001b[0m | \u001b[1mRunning on device cuda:0\u001b[0m\n",
      "\u001b[32m2025-03-06 09:50:34\u001b[0m | \u001b[1mINFO    \u001b[0m | \u001b[36mDF\u001b[0m | \u001b[1mModel loaded\u001b[0m\n",
      "✅ Enhanced Audio Saved at given output_file_path\n"
     ]
    }
   ],
   "source": [
    "audio_file_path = r\"C:\\Users\\User_1\\Desktop\\Comm-sounds\\sat.mp3\"\n",
    "output_file_path = r\"C:\\Users\\User_1\\Desktop\\Comm-sounds\\output_1.wav\"\n",
    "\n",
    "denoising_deepfilternet(audio_file_path, output_file_path, sample_rate=SAMPLE_RATE, atten_lim_db=ATTEN_LIM_DB, cutoff_freq=CUTOFF_FREQ, gain_db=GAIN_DB)"
   ]
  },
  {
   "cell_type": "markdown",
   "metadata": {},
   "source": [
    "Batch process on all files in a folder "
   ]
  },
  {
   "cell_type": "code",
   "execution_count": 15,
   "metadata": {},
   "outputs": [],
   "source": [
    "folder_path = r\"C:\\Users\\User_1\\Desktop\\Comm-sounds\""
   ]
  },
  {
   "cell_type": "code",
   "execution_count": 16,
   "metadata": {},
   "outputs": [
    {
     "name": "stdout",
     "output_type": "stream",
     "text": [
      "\u001b[32m2025-03-06 09:58:14\u001b[0m | \u001b[1mINFO    \u001b[0m | \u001b[36mDF\u001b[0m | \u001b[1mLoading model settings of DeepFilterNet3\u001b[0m\n",
      "\u001b[32m2025-03-06 09:58:14\u001b[0m | \u001b[1mINFO    \u001b[0m | \u001b[36mDF\u001b[0m | \u001b[1mUsing DeepFilterNet3 model at C:\\Users\\User_1\\AppData\\Local\\DeepFilterNet\\DeepFilterNet\\Cache\\DeepFilterNet3\u001b[0m\n",
      "\u001b[32m2025-03-06 09:58:14\u001b[0m | \u001b[1mINFO    \u001b[0m | \u001b[36mDF\u001b[0m | \u001b[1mInitializing model `deepfilternet3`\u001b[0m\n",
      "\u001b[32m2025-03-06 09:58:14\u001b[0m | \u001b[1mINFO    \u001b[0m | \u001b[36mDF\u001b[0m | \u001b[1mFound checkpoint C:\\Users\\User_1\\AppData\\Local\\DeepFilterNet\\DeepFilterNet\\Cache\\DeepFilterNet3\\checkpoints\\model_120.ckpt.best with epoch 120\u001b[0m\n",
      "\u001b[32m2025-03-06 09:58:14\u001b[0m | \u001b[1mINFO    \u001b[0m | \u001b[36mDF\u001b[0m | \u001b[1mRunning on device cuda:0\u001b[0m\n",
      "\u001b[32m2025-03-06 09:58:14\u001b[0m | \u001b[1mINFO    \u001b[0m | \u001b[36mDF\u001b[0m | \u001b[1mModel loaded\u001b[0m\n",
      "✅ Enhanced Audio Saved at given output_file_path\n",
      "\u001b[32m2025-03-06 09:58:15\u001b[0m | \u001b[1mINFO    \u001b[0m | \u001b[36mDF\u001b[0m | \u001b[1mLoading model settings of DeepFilterNet3\u001b[0m\n",
      "\u001b[32m2025-03-06 09:58:15\u001b[0m | \u001b[1mINFO    \u001b[0m | \u001b[36mDF\u001b[0m | \u001b[1mUsing DeepFilterNet3 model at C:\\Users\\User_1\\AppData\\Local\\DeepFilterNet\\DeepFilterNet\\Cache\\DeepFilterNet3\u001b[0m\n",
      "\u001b[32m2025-03-06 09:58:15\u001b[0m | \u001b[1mINFO    \u001b[0m | \u001b[36mDF\u001b[0m | \u001b[1mInitializing model `deepfilternet3`\u001b[0m\n",
      "\u001b[32m2025-03-06 09:58:15\u001b[0m | \u001b[1mINFO    \u001b[0m | \u001b[36mDF\u001b[0m | \u001b[1mFound checkpoint C:\\Users\\User_1\\AppData\\Local\\DeepFilterNet\\DeepFilterNet\\Cache\\DeepFilterNet3\\checkpoints\\model_120.ckpt.best with epoch 120\u001b[0m\n",
      "\u001b[32m2025-03-06 09:58:15\u001b[0m | \u001b[1mINFO    \u001b[0m | \u001b[36mDF\u001b[0m | \u001b[1mRunning on device cuda:0\u001b[0m\n",
      "\u001b[32m2025-03-06 09:58:15\u001b[0m | \u001b[1mINFO    \u001b[0m | \u001b[36mDF\u001b[0m | \u001b[1mModel loaded\u001b[0m\n",
      "✅ Enhanced Audio Saved at given output_file_path\n",
      "\u001b[32m2025-03-06 09:58:15\u001b[0m | \u001b[1mINFO    \u001b[0m | \u001b[36mDF\u001b[0m | \u001b[1mLoading model settings of DeepFilterNet3\u001b[0m\n",
      "\u001b[32m2025-03-06 09:58:15\u001b[0m | \u001b[1mINFO    \u001b[0m | \u001b[36mDF\u001b[0m | \u001b[1mUsing DeepFilterNet3 model at C:\\Users\\User_1\\AppData\\Local\\DeepFilterNet\\DeepFilterNet\\Cache\\DeepFilterNet3\u001b[0m\n",
      "\u001b[32m2025-03-06 09:58:15\u001b[0m | \u001b[1mINFO    \u001b[0m | \u001b[36mDF\u001b[0m | \u001b[1mInitializing model `deepfilternet3`\u001b[0m\n",
      "\u001b[32m2025-03-06 09:58:15\u001b[0m | \u001b[1mINFO    \u001b[0m | \u001b[36mDF\u001b[0m | \u001b[1mFound checkpoint C:\\Users\\User_1\\AppData\\Local\\DeepFilterNet\\DeepFilterNet\\Cache\\DeepFilterNet3\\checkpoints\\model_120.ckpt.best with epoch 120\u001b[0m\n",
      "\u001b[32m2025-03-06 09:58:15\u001b[0m | \u001b[1mINFO    \u001b[0m | \u001b[36mDF\u001b[0m | \u001b[1mRunning on device cuda:0\u001b[0m\n",
      "\u001b[32m2025-03-06 09:58:15\u001b[0m | \u001b[1mINFO    \u001b[0m | \u001b[36mDF\u001b[0m | \u001b[1mModel loaded\u001b[0m\n",
      "✅ Enhanced Audio Saved at given output_file_path\n",
      "\u001b[32m2025-03-06 09:58:15\u001b[0m | \u001b[1mINFO    \u001b[0m | \u001b[36mDF\u001b[0m | \u001b[1mLoading model settings of DeepFilterNet3\u001b[0m\n",
      "\u001b[32m2025-03-06 09:58:15\u001b[0m | \u001b[1mINFO    \u001b[0m | \u001b[36mDF\u001b[0m | \u001b[1mUsing DeepFilterNet3 model at C:\\Users\\User_1\\AppData\\Local\\DeepFilterNet\\DeepFilterNet\\Cache\\DeepFilterNet3\u001b[0m\n",
      "\u001b[32m2025-03-06 09:58:15\u001b[0m | \u001b[1mINFO    \u001b[0m | \u001b[36mDF\u001b[0m | \u001b[1mInitializing model `deepfilternet3`\u001b[0m\n",
      "\u001b[32m2025-03-06 09:58:15\u001b[0m | \u001b[1mINFO    \u001b[0m | \u001b[36mDF\u001b[0m | \u001b[1mFound checkpoint C:\\Users\\User_1\\AppData\\Local\\DeepFilterNet\\DeepFilterNet\\Cache\\DeepFilterNet3\\checkpoints\\model_120.ckpt.best with epoch 120\u001b[0m\n",
      "\u001b[32m2025-03-06 09:58:15\u001b[0m | \u001b[1mINFO    \u001b[0m | \u001b[36mDF\u001b[0m | \u001b[1mRunning on device cuda:0\u001b[0m\n",
      "\u001b[32m2025-03-06 09:58:15\u001b[0m | \u001b[1mINFO    \u001b[0m | \u001b[36mDF\u001b[0m | \u001b[1mModel loaded\u001b[0m\n",
      "✅ Enhanced Audio Saved at given output_file_path\n",
      "\u001b[32m2025-03-06 09:58:15\u001b[0m | \u001b[1mINFO    \u001b[0m | \u001b[36mDF\u001b[0m | \u001b[1mLoading model settings of DeepFilterNet3\u001b[0m\n",
      "\u001b[32m2025-03-06 09:58:15\u001b[0m | \u001b[1mINFO    \u001b[0m | \u001b[36mDF\u001b[0m | \u001b[1mUsing DeepFilterNet3 model at C:\\Users\\User_1\\AppData\\Local\\DeepFilterNet\\DeepFilterNet\\Cache\\DeepFilterNet3\u001b[0m\n",
      "\u001b[32m2025-03-06 09:58:15\u001b[0m | \u001b[1mINFO    \u001b[0m | \u001b[36mDF\u001b[0m | \u001b[1mInitializing model `deepfilternet3`\u001b[0m\n",
      "\u001b[32m2025-03-06 09:58:15\u001b[0m | \u001b[1mINFO    \u001b[0m | \u001b[36mDF\u001b[0m | \u001b[1mFound checkpoint C:\\Users\\User_1\\AppData\\Local\\DeepFilterNet\\DeepFilterNet\\Cache\\DeepFilterNet3\\checkpoints\\model_120.ckpt.best with epoch 120\u001b[0m\n",
      "\u001b[32m2025-03-06 09:58:15\u001b[0m | \u001b[1mINFO    \u001b[0m | \u001b[36mDF\u001b[0m | \u001b[1mRunning on device cuda:0\u001b[0m\n",
      "\u001b[32m2025-03-06 09:58:15\u001b[0m | \u001b[1mINFO    \u001b[0m | \u001b[36mDF\u001b[0m | \u001b[1mModel loaded\u001b[0m\n",
      "✅ Enhanced Audio Saved at given output_file_path\n"
     ]
    }
   ],
   "source": [
    "audio_files = glob.glob(os.path.join(folder_path, '*.*'))\n",
    "audio_extensions = ['.mp3', '.wav', '.flac', '.ogg', '.aac']  # Add more extensions if needed\n",
    "\n",
    "audio_files = [f for f in audio_files if os.path.splitext(f)[1].lower() in audio_extensions]\n",
    "\n",
    "for audio_file in audio_files:\n",
    "    file_name = os.path.basename(audio_file)\n",
    "    output_file_path = os.path.join(folder_path, f\"enhanced_{os.path.splitext(file_name)[0]}.wav\")\n",
    "    \n",
    "    denoising_deepfilternet(audio_file, output_file_path)"
   ]
  },
  {
   "cell_type": "code",
   "execution_count": null,
   "metadata": {},
   "outputs": [],
   "source": []
  }
 ],
 "metadata": {
  "kernelspec": {
   "display_name": "Python 3 (ipykernel)",
   "language": "python",
   "name": "python3"
  },
  "language_info": {
   "codemirror_mode": {
    "name": "ipython",
    "version": 3
   },
   "file_extension": ".py",
   "mimetype": "text/x-python",
   "name": "python",
   "nbconvert_exporter": "python",
   "pygments_lexer": "ipython3",
   "version": "3.12.4"
  }
 },
 "nbformat": 4,
 "nbformat_minor": 2
}
